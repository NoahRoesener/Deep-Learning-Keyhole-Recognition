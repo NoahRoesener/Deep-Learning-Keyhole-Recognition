{
  "nbformat": 4,
  "nbformat_minor": 0,
  "metadata": {
    "colab": {
      "name": "Untitled0.ipynb",
      "provenance": [],
      "collapsed_sections": [],
      "authorship_tag": "ABX9TyPkiHcZzcsgWDOxai4oHXAQ",
      "include_colab_link": true
    },
    "kernelspec": {
      "name": "python3",
      "display_name": "Python 3"
    }
  },
  "cells": [
    {
      "cell_type": "markdown",
      "metadata": {
        "id": "view-in-github",
        "colab_type": "text"
      },
      "source": [
        "<a href=\"https://colab.research.google.com/github/NoahRoesener/Deep-Learning-Keyhole-Recognition/blob/master/main.ipynb\" target=\"_parent\"><img src=\"https://colab.research.google.com/assets/colab-badge.svg\" alt=\"Open In Colab\"/></a>"
      ]
    },
    {
      "cell_type": "code",
      "metadata": {
        "colab": {
          "base_uri": "https://localhost:8080/"
        },
        "id": "edY5wq54LBiK",
        "outputId": "850d8d32-f610-4cb8-afb5-3185b338facb"
      },
      "source": [
        "!wget -O IBSR_v2_resampled_cropped_8bit_6464.npz https://seafile.zfn.uni-bremen.de/f/15889715dfc7486c87b3/?dl=1%27\r\n"
      ],
      "execution_count": 1,
      "outputs": [
        {
          "output_type": "stream",
          "text": [
            "--2021-01-25 15:40:28--  https://seafile.zfn.uni-bremen.de/f/15889715dfc7486c87b3/?dl=1%27\n",
            "Resolving seafile.zfn.uni-bremen.de (seafile.zfn.uni-bremen.de)... 134.102.22.128\n",
            "Connecting to seafile.zfn.uni-bremen.de (seafile.zfn.uni-bremen.de)|134.102.22.128|:443... connected.\n",
            "HTTP request sent, awaiting response... 200 OK\n",
            "Length: 5423 (5.3K) [text/html]\n",
            "Saving to: ‘IBSR_v2_resampled_cropped_8bit_6464.npz’\n",
            "\n",
            "IBSR_v2_resampled_c 100%[===================>]   5.30K  --.-KB/s    in 0s      \n",
            "\n",
            "2021-01-25 15:40:29 (603 MB/s) - ‘IBSR_v2_resampled_cropped_8bit_6464.npz’ saved [5423/5423]\n",
            "\n"
          ],
          "name": "stdout"
        }
      ]
    },
    {
      "cell_type": "code",
      "metadata": {
        "id": "mOe7dCyONSqx"
      },
      "source": [
        ""
      ],
      "execution_count": null,
      "outputs": []
    }
  ]
}